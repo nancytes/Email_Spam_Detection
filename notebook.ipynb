{
 "cells": [
  {
   "cell_type": "markdown",
   "metadata": {},
   "source": [
    "#### Importing Libraries"
   ]
  },
  {
   "cell_type": "code",
   "execution_count": 106,
   "metadata": {},
   "outputs": [],
   "source": [
    "import numpy as np\n",
    "import pandas as pd\n",
    "import matplotlib.pyplot as plt\n",
    "import seaborn as sns\n",
    "from sklearn.model_selection import train_test_split, GridSearchCV\n",
    "from sklearn.metrics import classification_report, accuracy_score, confusion_matrix\n",
    "from sklearn.feature_extraction.text import TfidfVectorizer\n",
    "from sklearn.linear_model import LogisticRegression\n",
    "from sklearn.svm import SVC"
   ]
  },
  {
   "cell_type": "markdown",
   "metadata": {},
   "source": [
    "#### Loading Data"
   ]
  },
  {
   "cell_type": "code",
   "execution_count": 78,
   "metadata": {},
   "outputs": [],
   "source": [
    "raw_mail_data = pd.read_csv(\"data.csv\")"
   ]
  },
  {
   "cell_type": "code",
   "execution_count": 79,
   "metadata": {},
   "outputs": [],
   "source": [
    "mail_data = raw_mail_data.where((pd.notnull(raw_mail_data)), '')"
   ]
  },
  {
   "cell_type": "code",
   "execution_count": 80,
   "metadata": {},
   "outputs": [
    {
     "data": {
      "text/html": [
       "<div>\n",
       "<style scoped>\n",
       "    .dataframe tbody tr th:only-of-type {\n",
       "        vertical-align: middle;\n",
       "    }\n",
       "\n",
       "    .dataframe tbody tr th {\n",
       "        vertical-align: top;\n",
       "    }\n",
       "\n",
       "    .dataframe thead th {\n",
       "        text-align: right;\n",
       "    }\n",
       "</style>\n",
       "<table border=\"1\" class=\"dataframe\">\n",
       "  <thead>\n",
       "    <tr style=\"text-align: right;\">\n",
       "      <th></th>\n",
       "      <th>Category</th>\n",
       "      <th>Content</th>\n",
       "    </tr>\n",
       "  </thead>\n",
       "  <tbody>\n",
       "    <tr>\n",
       "      <th>0</th>\n",
       "      <td>ham</td>\n",
       "      <td>Subject: enron methanol ; meter # : 988291\\r\\n...</td>\n",
       "    </tr>\n",
       "    <tr>\n",
       "      <th>1</th>\n",
       "      <td>ham</td>\n",
       "      <td>Subject: hpl nom for january 9 , 2001\\r\\n( see...</td>\n",
       "    </tr>\n",
       "    <tr>\n",
       "      <th>2</th>\n",
       "      <td>ham</td>\n",
       "      <td>Subject: neon retreat\\r\\nho ho ho , we ' re ar...</td>\n",
       "    </tr>\n",
       "    <tr>\n",
       "      <th>3</th>\n",
       "      <td>spam</td>\n",
       "      <td>Subject: photoshop , windows , office . cheap ...</td>\n",
       "    </tr>\n",
       "    <tr>\n",
       "      <th>4</th>\n",
       "      <td>ham</td>\n",
       "      <td>Subject: re : indian springs\\r\\nthis deal is t...</td>\n",
       "    </tr>\n",
       "  </tbody>\n",
       "</table>\n",
       "</div>"
      ],
      "text/plain": [
       "  Category                                            Content\n",
       "0      ham  Subject: enron methanol ; meter # : 988291\\r\\n...\n",
       "1      ham  Subject: hpl nom for january 9 , 2001\\r\\n( see...\n",
       "2      ham  Subject: neon retreat\\r\\nho ho ho , we ' re ar...\n",
       "3     spam  Subject: photoshop , windows , office . cheap ...\n",
       "4      ham  Subject: re : indian springs\\r\\nthis deal is t..."
      ]
     },
     "execution_count": 80,
     "metadata": {},
     "output_type": "execute_result"
    }
   ],
   "source": [
    "mail_data.head(5)"
   ]
  },
  {
   "cell_type": "code",
   "execution_count": 81,
   "metadata": {},
   "outputs": [
    {
     "data": {
      "text/plain": [
       "(5171, 2)"
      ]
     },
     "execution_count": 81,
     "metadata": {},
     "output_type": "execute_result"
    }
   ],
   "source": [
    "mail_data.shape"
   ]
  },
  {
   "cell_type": "code",
   "execution_count": 82,
   "metadata": {},
   "outputs": [
    {
     "data": {
      "text/plain": [
       "ham     3672\n",
       "spam    1499\n",
       "Name: Category, dtype: int64"
      ]
     },
     "execution_count": 82,
     "metadata": {},
     "output_type": "execute_result"
    }
   ],
   "source": [
    "mail_data['Category'].value_counts()"
   ]
  },
  {
   "cell_type": "markdown",
   "metadata": {},
   "source": [
    "### Encoding Category Column"
   ]
  },
  {
   "cell_type": "markdown",
   "metadata": {},
   "source": [
    "<p>Spam mail label as 1 and Ham mail label as 0</p>"
   ]
  },
  {
   "cell_type": "code",
   "execution_count": 83,
   "metadata": {},
   "outputs": [],
   "source": [
    "mail_data.loc[mail_data['Category'] == 'spam', 'Category_Label'] = 1\n",
    "mail_data.loc[mail_data['Category'] == 'ham', 'Category_Label'] = 0"
   ]
  },
  {
   "cell_type": "code",
   "execution_count": 84,
   "metadata": {},
   "outputs": [
    {
     "data": {
      "text/html": [
       "<div>\n",
       "<style scoped>\n",
       "    .dataframe tbody tr th:only-of-type {\n",
       "        vertical-align: middle;\n",
       "    }\n",
       "\n",
       "    .dataframe tbody tr th {\n",
       "        vertical-align: top;\n",
       "    }\n",
       "\n",
       "    .dataframe thead th {\n",
       "        text-align: right;\n",
       "    }\n",
       "</style>\n",
       "<table border=\"1\" class=\"dataframe\">\n",
       "  <thead>\n",
       "    <tr style=\"text-align: right;\">\n",
       "      <th></th>\n",
       "      <th>Category</th>\n",
       "      <th>Content</th>\n",
       "      <th>Category_Label</th>\n",
       "    </tr>\n",
       "  </thead>\n",
       "  <tbody>\n",
       "    <tr>\n",
       "      <th>0</th>\n",
       "      <td>ham</td>\n",
       "      <td>Subject: enron methanol ; meter # : 988291\\r\\n...</td>\n",
       "      <td>0.0</td>\n",
       "    </tr>\n",
       "    <tr>\n",
       "      <th>1</th>\n",
       "      <td>ham</td>\n",
       "      <td>Subject: hpl nom for january 9 , 2001\\r\\n( see...</td>\n",
       "      <td>0.0</td>\n",
       "    </tr>\n",
       "    <tr>\n",
       "      <th>2</th>\n",
       "      <td>ham</td>\n",
       "      <td>Subject: neon retreat\\r\\nho ho ho , we ' re ar...</td>\n",
       "      <td>0.0</td>\n",
       "    </tr>\n",
       "    <tr>\n",
       "      <th>3</th>\n",
       "      <td>spam</td>\n",
       "      <td>Subject: photoshop , windows , office . cheap ...</td>\n",
       "      <td>1.0</td>\n",
       "    </tr>\n",
       "    <tr>\n",
       "      <th>4</th>\n",
       "      <td>ham</td>\n",
       "      <td>Subject: re : indian springs\\r\\nthis deal is t...</td>\n",
       "      <td>0.0</td>\n",
       "    </tr>\n",
       "  </tbody>\n",
       "</table>\n",
       "</div>"
      ],
      "text/plain": [
       "  Category                                            Content  Category_Label\n",
       "0      ham  Subject: enron methanol ; meter # : 988291\\r\\n...             0.0\n",
       "1      ham  Subject: hpl nom for january 9 , 2001\\r\\n( see...             0.0\n",
       "2      ham  Subject: neon retreat\\r\\nho ho ho , we ' re ar...             0.0\n",
       "3     spam  Subject: photoshop , windows , office . cheap ...             1.0\n",
       "4      ham  Subject: re : indian springs\\r\\nthis deal is t...             0.0"
      ]
     },
     "execution_count": 84,
     "metadata": {},
     "output_type": "execute_result"
    }
   ],
   "source": [
    "mail_data.head(5)"
   ]
  },
  {
   "cell_type": "code",
   "execution_count": 85,
   "metadata": {},
   "outputs": [],
   "source": [
    "X = mail_data['Content'].values\n",
    "Y = mail_data['Category_Label'].values"
   ]
  },
  {
   "cell_type": "markdown",
   "metadata": {},
   "source": [
    "#### Preparing training and testing set"
   ]
  },
  {
   "cell_type": "code",
   "execution_count": 86,
   "metadata": {},
   "outputs": [],
   "source": [
    "X_train, X_test, y_train, y_test = train_test_split(X, Y, test_size=0.2, random_state=1, shuffle=True)"
   ]
  },
  {
   "cell_type": "code",
   "execution_count": 87,
   "metadata": {},
   "outputs": [
    {
     "name": "stdout",
     "output_type": "stream",
     "text": [
      "Original data size: 5171\n",
      "Train data size: 4136\n",
      "Test data size: 1035\n"
     ]
    }
   ],
   "source": [
    "print(\"Original data size:\", X.shape[0])\n",
    "print(\"Train data size:\", X_train.shape[0])\n",
    "print(\"Test data size:\", X_test.shape[0])"
   ]
  },
  {
   "cell_type": "markdown",
   "metadata": {},
   "source": [
    "#### Text feature extraction using TF-IDF Vectorizer"
   ]
  },
  {
   "cell_type": "markdown",
   "metadata": {},
   "source": [
    "<p>TF-IDF Vectroizer explained well in this <a href=\"https://towardsdatascience.com/tf-idf-simplified-aba19d5f5530\">Medium</a> article</p>"
   ]
  },
  {
   "cell_type": "code",
   "execution_count": 88,
   "metadata": {},
   "outputs": [],
   "source": [
    "vectorizer = TfidfVectorizer(min_df=1, lowercase=True, stop_words='english')"
   ]
  },
  {
   "cell_type": "code",
   "execution_count": 89,
   "metadata": {},
   "outputs": [],
   "source": [
    "X_train_features = vectorizer.fit_transform(X_train)\n",
    "X_test_features = vectorizer.transform(X_test)"
   ]
  },
  {
   "cell_type": "markdown",
   "metadata": {},
   "source": [
    "#### Model selection and hyper-parameter tuning using GridSearchCV"
   ]
  },
  {
   "cell_type": "code",
   "execution_count": 92,
   "metadata": {},
   "outputs": [],
   "source": [
    "models = {\n",
    "    \"svm_linear\": {\n",
    "        \"instance\": SVC(probability=True, gamma=\"auto\", kernel=\"linear\"),\n",
    "        \"params\": {\n",
    "            \"C\": [0.001, 0.01, 0.1, 1, 10, 100, 1000],\n",
    "        }\n",
    "    },\n",
    "    \"logistic_regression\": {\n",
    "        \"instance\": LogisticRegression(max_iter=500),\n",
    "        \"params\": {\n",
    "            \"C\": [0.001, 0.01, 0.1, 1, 10, 100, 1000],\n",
    "        }\n",
    "    },\n",
    "}"
   ]
  },
  {
   "cell_type": "code",
   "execution_count": 93,
   "metadata": {},
   "outputs": [
    {
     "name": "stdout",
     "output_type": "stream",
     "text": [
      "Training svm_linear\n",
      "Training logistic_regression\n"
     ]
    }
   ],
   "source": [
    "scores = []\n",
    "best_estimators = {}\n",
    "\n",
    "for model_name, config in models.items():\n",
    "    print(\"Training\", model_name)\n",
    "    \n",
    "    classifier = GridSearchCV(\n",
    "        estimator=config[\"instance\"],\n",
    "        param_grid=config[\"params\"],\n",
    "        cv=5,\n",
    "        scoring=\"accuracy\"\n",
    "    )\n",
    "    \n",
    "    classifier.fit(X_train_features, y_train)\n",
    "    \n",
    "    scores.append({\n",
    "        \"model\" : model_name,\n",
    "        \"train_score\" : classifier.best_score_,\n",
    "        \"test_score\" : classifier.best_estimator_.score(X_test_features, y_test),\n",
    "        \"params\" : classifier.best_params_\n",
    "    })\n",
    "    \n",
    "    best_estimators[model_name] = classifier.best_estimator_"
   ]
  },
  {
   "cell_type": "code",
   "execution_count": 95,
   "metadata": {},
   "outputs": [
    {
     "data": {
      "text/html": [
       "<div>\n",
       "<style scoped>\n",
       "    .dataframe tbody tr th:only-of-type {\n",
       "        vertical-align: middle;\n",
       "    }\n",
       "\n",
       "    .dataframe tbody tr th {\n",
       "        vertical-align: top;\n",
       "    }\n",
       "\n",
       "    .dataframe thead th {\n",
       "        text-align: right;\n",
       "    }\n",
       "</style>\n",
       "<table border=\"1\" class=\"dataframe\">\n",
       "  <thead>\n",
       "    <tr style=\"text-align: right;\">\n",
       "      <th></th>\n",
       "      <th>model</th>\n",
       "      <th>train_score</th>\n",
       "      <th>test_score</th>\n",
       "      <th>params</th>\n",
       "    </tr>\n",
       "  </thead>\n",
       "  <tbody>\n",
       "    <tr>\n",
       "      <th>0</th>\n",
       "      <td>svm_linear</td>\n",
       "      <td>0.987668</td>\n",
       "      <td>0.997101</td>\n",
       "      <td>{'C': 10}</td>\n",
       "    </tr>\n",
       "    <tr>\n",
       "      <th>1</th>\n",
       "      <td>logistic_regression</td>\n",
       "      <td>0.989361</td>\n",
       "      <td>0.995169</td>\n",
       "      <td>{'C': 1000}</td>\n",
       "    </tr>\n",
       "  </tbody>\n",
       "</table>\n",
       "</div>"
      ],
      "text/plain": [
       "                 model  train_score  test_score       params\n",
       "0           svm_linear     0.987668    0.997101    {'C': 10}\n",
       "1  logistic_regression     0.989361    0.995169  {'C': 1000}"
      ]
     },
     "execution_count": 95,
     "metadata": {},
     "output_type": "execute_result"
    }
   ],
   "source": [
    "result = pd.DataFrame(scores, columns=[\"model\", \"train_score\", \"test_score\", \"params\"])\n",
    "result.head()"
   ]
  },
  {
   "cell_type": "markdown",
   "metadata": {},
   "source": [
    "<p>Both SVM and Logistic Regression model shows good average score. Since logistic regression works <br> better with binary classification we will work with that.</p>"
   ]
  },
  {
   "cell_type": "code",
   "execution_count": 98,
   "metadata": {},
   "outputs": [],
   "source": [
    "model = best_estimators['logistic_regression']"
   ]
  },
  {
   "cell_type": "markdown",
   "metadata": {},
   "source": [
    "#### Model evaluation"
   ]
  },
  {
   "cell_type": "code",
   "execution_count": 101,
   "metadata": {},
   "outputs": [
    {
     "name": "stdout",
     "output_type": "stream",
     "text": [
      "ACCURACY SCORE\n",
      "Training Set: 100.0 %\n",
      "Testing Set: 99.51690821256038 %\n"
     ]
    }
   ],
   "source": [
    "print(\"ACCURACY SCORE\")\n",
    "print(\"Training Set:\", accuracy_score(y_true=y_train, y_pred=model.predict(X_train_features)) * 100, \"%\")\n",
    "print(\"Testing Set:\", accuracy_score(y_true=y_test, y_pred=model.predict(X_test_features)) * 100, \"%\")"
   ]
  },
  {
   "cell_type": "code",
   "execution_count": 104,
   "metadata": {},
   "outputs": [
    {
     "name": "stdout",
     "output_type": "stream",
     "text": [
      "CLASSIFICATION REPORT\n",
      "              precision    recall  f1-score   support\n",
      "\n",
      "         0.0       1.00      0.99      1.00       731\n",
      "         1.0       0.99      1.00      0.99       304\n",
      "\n",
      "    accuracy                           1.00      1035\n",
      "   macro avg       0.99      1.00      0.99      1035\n",
      "weighted avg       1.00      1.00      1.00      1035\n",
      "\n"
     ]
    }
   ],
   "source": [
    "print(\"CLASSIFICATION REPORT\")\n",
    "print(classification_report(y_true=y_test, y_pred=model.predict(X_test_features)))"
   ]
  },
  {
   "cell_type": "code",
   "execution_count": 107,
   "metadata": {},
   "outputs": [
    {
     "data": {
      "image/png": "[encoded data removed]",
      "text/plain": [
       "<Figure size 576x432 with 2 Axes>"
      ]
     },
     "metadata": {
      "needs_background": "light"
     },
     "output_type": "display_data"
    }
   ],
   "source": [
    "matrix = confusion_matrix(y_true=y_test, y_pred=model.predict(X_test_features))\n",
    "\n",
    "plt.figure(figsize=(8,6))\n",
    "plt.xlabel(\"PREDICTED\")\n",
    "plt.ylabel(\"TRUTH\")\n",
    "sns.heatmap(matrix, annot=True)\n",
    "plt.show()"
   ]
  },
  {
   "cell_type": "markdown",
   "metadata": {},
   "source": [
    "#### Making Predictions"
   ]
  },
  {
   "cell_type": "code",
   "execution_count": 113,
   "metadata": {},
   "outputs": [
    {
     "data": {
      "text/html": [
       "<div>\n",
       "<style scoped>\n",
       "    .dataframe tbody tr th:only-of-type {\n",
       "        vertical-align: middle;\n",
       "    }\n",
       "\n",
       "    .dataframe tbody tr th {\n",
       "        vertical-align: top;\n",
       "    }\n",
       "\n",
       "    .dataframe thead th {\n",
       "        text-align: right;\n",
       "    }\n",
       "</style>\n",
       "<table border=\"1\" class=\"dataframe\">\n",
       "  <thead>\n",
       "    <tr style=\"text-align: right;\">\n",
       "      <th></th>\n",
       "      <th>Content</th>\n",
       "      <th>Real Category</th>\n",
       "      <th>Predicted Category</th>\n",
       "    </tr>\n",
       "  </thead>\n",
       "  <tbody>\n",
       "    <tr>\n",
       "      <th>0</th>\n",
       "      <td>Subject: what the heck\\r\\ndaren ,\\r\\nnow what ...</td>\n",
       "      <td>Ham</td>\n",
       "      <td>Ham</td>\n",
       "    </tr>\n",
       "    <tr>\n",
       "      <th>1</th>\n",
       "      <td>Subject: hilcorp old ocean volume\\r\\naccording...</td>\n",
       "      <td>Ham</td>\n",
       "      <td>Ham</td>\n",
       "    </tr>\n",
       "    <tr>\n",
       "      <th>2</th>\n",
       "      <td>Subject: jurirne get latest softwares , 99 % s...</td>\n",
       "      <td>Spam</td>\n",
       "      <td>Spam</td>\n",
       "    </tr>\n",
       "    <tr>\n",
       "      <th>3</th>\n",
       "      <td>Subject: sitara patch\\r\\na patch is being rele...</td>\n",
       "      <td>Ham</td>\n",
       "      <td>Ham</td>\n",
       "    </tr>\n",
       "    <tr>\n",
       "      <th>4</th>\n",
       "      <td>Subject: archived great shots of california li...</td>\n",
       "      <td>Spam</td>\n",
       "      <td>Spam</td>\n",
       "    </tr>\n",
       "    <tr>\n",
       "      <th>5</th>\n",
       "      <td>Subject: this is hillarious !\\r\\ntake a minute...</td>\n",
       "      <td>Ham</td>\n",
       "      <td>Ham</td>\n",
       "    </tr>\n",
       "    <tr>\n",
       "      <th>6</th>\n",
       "      <td>Subject: devon\\r\\ni understand you guys want t...</td>\n",
       "      <td>Ham</td>\n",
       "      <td>Ham</td>\n",
       "    </tr>\n",
       "    <tr>\n",
       "      <th>7</th>\n",
       "      <td>Subject: feb noms\\r\\n- - - - - - - - - - - - -...</td>\n",
       "      <td>Ham</td>\n",
       "      <td>Ham</td>\n",
       "    </tr>\n",
       "    <tr>\n",
       "      <th>8</th>\n",
       "      <td>Subject: please read - important information f...</td>\n",
       "      <td>Ham</td>\n",
       "      <td>Ham</td>\n",
       "    </tr>\n",
       "    <tr>\n",
       "      <th>9</th>\n",
       "      <td>Subject: \\r\\nreceived : from 182 . 152 . 35 . ...</td>\n",
       "      <td>Spam</td>\n",
       "      <td>Spam</td>\n",
       "    </tr>\n",
       "  </tbody>\n",
       "</table>\n",
       "</div>"
      ],
      "text/plain": [
       "                                             Content Real Category  \\\n",
       "0  Subject: what the heck\\r\\ndaren ,\\r\\nnow what ...           Ham   \n",
       "1  Subject: hilcorp old ocean volume\\r\\naccording...           Ham   \n",
       "2  Subject: jurirne get latest softwares , 99 % s...          Spam   \n",
       "3  Subject: sitara patch\\r\\na patch is being rele...           Ham   \n",
       "4  Subject: archived great shots of california li...          Spam   \n",
       "5  Subject: this is hillarious !\\r\\ntake a minute...           Ham   \n",
       "6  Subject: devon\\r\\ni understand you guys want t...           Ham   \n",
       "7  Subject: feb noms\\r\\n- - - - - - - - - - - - -...           Ham   \n",
       "8  Subject: please read - important information f...           Ham   \n",
       "9  Subject: \\r\\nreceived : from 182 . 152 . 35 . ...          Spam   \n",
       "\n",
       "  Predicted Category  \n",
       "0                Ham  \n",
       "1                Ham  \n",
       "2               Spam  \n",
       "3                Ham  \n",
       "4               Spam  \n",
       "5                Ham  \n",
       "6                Ham  \n",
       "7                Ham  \n",
       "8                Ham  \n",
       "9               Spam  "
      ]
     },
     "execution_count": 113,
     "metadata": {},
     "output_type": "execute_result"
    }
   ],
   "source": [
    "predictions = pd.DataFrame()\n",
    "\n",
    "predictions[\"Content\"] = X_test\n",
    "\n",
    "predictions[\"Real Category\"] = y_test\n",
    "predictions[\"Predicted Category\"] = model.predict(X_test_features)\n",
    "\n",
    "predictions.loc[predictions['Real Category'] == 0, 'Real Category'] = 'Ham'\n",
    "predictions.loc[predictions['Real Category'] == 1, 'Real Category'] = 'Spam'\n",
    "\n",
    "predictions.loc[predictions['Predicted Category'] == 0, 'Predicted Category'] = 'Ham'\n",
    "predictions.loc[predictions['Predicted Category'] == 1, 'Predicted Category'] = 'Spam'\n",
    "\n",
    "predictions.to_csv(\"test_prediction_result.csv\", index=False)\n",
    "\n",
    "predictions.head(10)"
   ]
  }
 ],
 "metadata": {
  "interpreter": {
   "hash": "64f5e4e24ffb33fc7ea1cbb103df6a932b484f6a7eb142e91069bbb83088c7a6"
  },
  "kernelspec": {
   "display_name": "Python 3 (ipykernel)",
   "language": "python",
   "name": "python3"
  },
  "language_info": {
   "codemirror_mode": {
    "name": "ipython",
    "version": 3
   },
   "file_extension": ".py",
   "mimetype": "text/x-python",
   "name": "python",
   "nbconvert_exporter": "python",
   "pygments_lexer": "ipython3",
   "version": "3.11.4"
  }
 },
 "nbformat": 4,
 "nbformat_minor": 2
}
